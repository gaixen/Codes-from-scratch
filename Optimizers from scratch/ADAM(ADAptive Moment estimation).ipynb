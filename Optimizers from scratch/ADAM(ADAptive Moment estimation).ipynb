{
  "nbformat": 4,
  "nbformat_minor": 0,
  "metadata": {
    "colab": {
      "provenance": [],
      "authorship_tag": "ABX9TyPhMvxTrNboL374jriHMkJg",
      "include_colab_link": true
    },
    "kernelspec": {
      "name": "python3",
      "display_name": "Python 3"
    },
    "language_info": {
      "name": "python"
    }
  },
  "cells": [
    {
      "cell_type": "markdown",
      "metadata": {
        "id": "view-in-github",
        "colab_type": "text"
      },
      "source": [
        "<a href=\"https://colab.research.google.com/github/gaixen/Codes-from-scratch/blob/main/Optimizers%20from%20scratch/ADAM(ADAptive%20Moment%20estimation).ipynb\" target=\"_parent\"><img src=\"https://colab.research.google.com/assets/colab-badge.svg\" alt=\"Open In Colab\"/></a>"
      ]
    },
    {
      "cell_type": "code",
      "execution_count": 2,
      "metadata": {
        "id": "RIK8jKttmwSu"
      },
      "outputs": [],
      "source": [
        "import numpy as np\n",
        "import matplotlib.pyplot as plt"
      ]
    },
    {
      "cell_type": "code",
      "source": [
        "def quadratic_loss(x,y):\n",
        "  return x**2 + 10*y**2;\n",
        "\n",
        "def gradient(x,y):\n",
        "  grad_x = 2*x\n",
        "  grad_y = 20*y\n",
        "  return np.array([grad_x,grad_y]);\n",
        "\n",
        "def gradient_descent(start_point , lr , epochs , quadratic_loss):\n",
        "  x , y = start_point\n",
        "  path = [(x,y)]\n",
        "  loss = [quadratic_loss(x,y)]\n",
        "\n",
        "  for _ in range(epochs):\n",
        "    grad = gradient(x,y)\n",
        "    x -= lr * grad[0]\n",
        "    y -= lr * grad[1]\n",
        "    path.append((x,y))\n",
        "    loss.append(quadratic_loss(x,y))\n",
        "\n",
        "  return np.array(path) , loss;"
      ],
      "metadata": {
        "id": "gTgcR-pbm1TE"
      },
      "execution_count": 1,
      "outputs": []
    }
  ]
}