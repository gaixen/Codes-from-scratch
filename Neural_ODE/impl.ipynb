{
  "nbformat": 4,
  "nbformat_minor": 0,
  "metadata": {
    "colab": {
      "provenance": [],
      "gpuType": "T4",
      "authorship_tag": "ABX9TyNDQ00jPWwXz/6NJVBCM5wB",
      "include_colab_link": true
    },
    "kernelspec": {
      "name": "python3",
      "display_name": "Python 3"
    },
    "language_info": {
      "name": "python"
    },
    "accelerator": "GPU"
  },
  "cells": [
    {
      "cell_type": "markdown",
      "metadata": {
        "id": "view-in-github",
        "colab_type": "text"
      },
      "source": [
        "<a href=\"https://colab.research.google.com/github/gaixen/Codes-from-scratch/blob/main/Neural_ODE/impl.ipynb\" target=\"_parent\"><img src=\"https://colab.research.google.com/assets/colab-badge.svg\" alt=\"Open In Colab\"/></a>"
      ]
    },
    {
      "cell_type": "markdown",
      "source": [
        "## Installing Dependencies"
      ],
      "metadata": {
        "id": "3LY_CYWh_Lpt"
      }
    },
    {
      "cell_type": "code",
      "execution_count": 41,
      "metadata": {
        "colab": {
          "base_uri": "https://localhost:8080/"
        },
        "id": "JJtjdxAj8SCK",
        "outputId": "03f8e505-26d7-424e-f8e2-2f4ce3fc07c2"
      },
      "outputs": [
        {
          "output_type": "stream",
          "name": "stderr",
          "text": [
            "Using cache found in /root/.cache/torch/hub/pytorch_vision_v0.10.0\n"
          ]
        }
      ],
      "source": [
        "import torch\n",
        "model = torch.hub.load('pytorch/vision:v0.10.0', 'resnet18', pretrained=True)"
      ]
    },
    {
      "cell_type": "code",
      "source": [
        "from IPython.display import clear_output\n",
        "import math\n",
        "import numpy as np\n",
        "from IPython.display import clear_output\n",
        "from tqdm import tqdm_notebook as tqdm\n",
        "import matplotlib as mpl\n",
        "\n",
        "import matplotlib.pyplot as plt\n",
        "import seaborn as sns\n",
        "sns.color_palette(\"bright\")\n",
        "import matplotlib as mpl\n",
        "import matplotlib.cm as cm\n",
        "import torch\n",
        "from torch import Tensor\n",
        "from torch import nn\n",
        "from torch.nn  import functional as F\n",
        "from torch.autograd import Variable"
      ],
      "metadata": {
        "id": "sIDQ9bqeK2oc"
      },
      "execution_count": 42,
      "outputs": []
    },
    {
      "cell_type": "code",
      "source": [
        "device = 'cuda' if torch.cuda.is_available() else 'cpu'\n",
        "print(device)"
      ],
      "metadata": {
        "colab": {
          "base_uri": "https://localhost:8080/"
        },
        "id": "mwkZQuyr-6dg",
        "outputId": "b1975dc8-96f4-4f4f-a782-a502b01f7efb"
      },
      "execution_count": 43,
      "outputs": [
        {
          "output_type": "stream",
          "name": "stdout",
          "text": [
            "cuda\n"
          ]
        }
      ]
    },
    {
      "cell_type": "code",
      "source": [
        "pip install keras --quiet"
      ],
      "metadata": {
        "id": "J9cKc2jBJR-v"
      },
      "execution_count": 44,
      "outputs": []
    },
    {
      "cell_type": "code",
      "source": [
        "import numpy as np\n",
        "import matplotlib.pyplot as plt\n",
        "from scipy.integrate import odeint\n",
        "from matplotlib.animation import FuncAnimation\n",
        "plt.style.use('ggplot')"
      ],
      "metadata": {
        "id": "oFOCodDszbXz"
      },
      "execution_count": 45,
      "outputs": []
    },
    {
      "cell_type": "code",
      "source": [
        "function = lambda y,x : (-4)*y**2 + 3*np.sin(x)\n",
        "y0 = 0\n",
        "T = 100\n",
        "x = np.linspace(0, 4 , 101)\n",
        "y = odeint(function , y0 , x)\n",
        "plt.plot(x,y[:,0])\n",
        "plt.xlabel = 'x'\n",
        "plt.ylabel = 'y'\n",
        "plt.show()"
      ],
      "metadata": {
        "colab": {
          "base_uri": "https://localhost:8080/",
          "height": 430
        },
        "id": "jQf-Qwekzj45",
        "outputId": "94ca25c3-5a9c-401e-eda4-a07dbd4e0b71"
      },
      "execution_count": 46,
      "outputs": [
        {
          "output_type": "display_data",
          "data": {
            "text/plain": [
              "<Figure size 640x480 with 1 Axes>"
            ],
            "image/png": "[encoded data removed]"
          },
          "metadata": {}
        }
      ]
    },
    {
      "cell_type": "code",
      "source": [
        "def ODE_solver_Euler(z0 , t0 , t1 , f):\n",
        "    h_max = 0.01\n",
        "    n_steps = math.ceil(((t1 - t0)/h_max).max().item())\n",
        "\n",
        "    h = (t1 - t0)/n_steps\n",
        "    t = t0\n",
        "    z = z0\n",
        "\n",
        "    for i in range(n_steps):\n",
        "        z = z + h*f(t,z)\n",
        "        t += h\n",
        "\n",
        "    return z"
      ],
      "metadata": {
        "id": "6RqD0TOxK0qz"
      },
      "execution_count": 47,
      "outputs": []
    },
    {
      "cell_type": "code",
      "source": [
        "class ODEF(nn.Module):\n",
        "    def forward_with_grad(self , z, t , grad_output):\n",
        "        batch_size = z.shape[0]\n",
        "        out = self.forward(z , t)\n",
        "        a = grad_output\n",
        "        adfdz , adfdt , *adfdp = torch.autograd.grad(\n",
        "            (out,),(z,t)+tuple(self.parameters()),grad_output = a,\n",
        "            allow_unused = True , retain_graph = True) # a is adjoint\n",
        "\n",
        "        if adfdp is not None:\n",
        "            adfdp = torch.cat([p_grad.flatten() for p_grad in adfdp]).unsqueeze(0)\n",
        "            adfdp = adfdp.expand(batch_size , -1)/batch_size\n",
        "        if adfdt is not None:\n",
        "            adfdt = adfdt.expand(batch_size , 1)/batch_size\n",
        "\n",
        "        return out , adfdz , adfdt , adfdp\n",
        "\n",
        "    def flatten_parameters(self):\n",
        "        p_shapes = []\n",
        "        flat_parameters = []\n",
        "\n",
        "        for p in self.parameters():\n",
        "            p_shapes.append(p.size())\n",
        "            flat_parameters.append(p.flatten())\n",
        "\n",
        "        return torch.cat(flat_parameters)\n",
        ""
      ],
      "metadata": {
        "id": "NaBHMr2QLJUW"
      },
      "execution_count": 48,
      "outputs": []
    },
    {
      "cell_type": "code",
      "source": [
        "class ODEAdjoint(torch.autograd.Function):\n",
        "    @staticmethod\n",
        "    def forward(ctx , z0 ,t , flat_parameters , func):\n",
        "        assert isinstance(func,ODEF)\n",
        "        bs , *z_shape = z0.size()\n",
        "        time_len = t.size(0)\n",
        "\n",
        "        with torch.no_grad():\n",
        "            z = torch.zeros(time_len , bs , *z_shape).to(z0)\n",
        "            z[0] = z0\n",
        "            for i_t in range(time_len -1):\n",
        "                z0 = ODE_solver_Euler(z0 , t[i_t] , t[i_t +1],func)\n",
        "                z[i_t+1] = z0\n",
        "\n",
        "        ctx.func = func\n",
        "        ctx.save_for_backward(t , z.clone() , flat_parameters)\n",
        "        return z\n",
        "\n",
        "    @staticmethod\n",
        "    def backward(ctx , dldz):\n",
        "        func = ctx.func\n",
        "        t ,z, flat_parameters = ctx.saved_tensors\n",
        "        time_len ,bs ,*z_shape = z.size()\n",
        "        n_dim = np.prod(z_shape)\n",
        "        n_params = flat_parameters.size(0)\n",
        "\n",
        "        def augemented_dynamics(aug_z_i , t_i):\n",
        "            z_i ,a = aug_z_i[:,:n_dim] , aug_z_i[: ,n_dim:2*n_dim]\n",
        "\n",
        "            z_i = z_i.view(bs ,*z_shape)\n",
        "            a = a.view(bs, *z_shape)\n",
        "\n",
        "            with torch.set_grad_enabled(True):\n",
        "                t_i = t_i.detach().requires_grad_(True)\n",
        "                z_i = z_i.detach().requires_grad_(True)\n",
        "                func_eval , adfdz , adfdt , adfdp = func.forward_with_grad(z_i , t_i , grad_output = a)\n",
        "                adfdz = adfdz.to(z_i) if adfdz is not None else torch.zeros(bs,*z_shape).to(z_i)\n",
        "                adfdp = adfdp.to(z_i) if adfdp is not None else torch.zeros(bs , n_params).to(z_i)\n",
        "                adfdt = adfdt.to(z_i) if adfdt is not None else torch.zeros(bs,1).to(z_i)\n",
        "\n",
        "            func_eval = func_eval.view(bs,n_dim)\n",
        "            adfdz = adfdz.view(bs,n_dim)\n",
        "            return torch.cat((func_eval , -adfdz , -adfdp , -adfdt),dim =1)\n",
        "\n",
        "        dldz = dldz.view(time_len,bs,n_dim)\n",
        "        with torch.no_grad():\n",
        "            adj_z = torch.zeros(bs,n_dim).to(dldz)\n",
        "            adj_p = torch.zeros(bs , n_params).to(dldz)\n",
        "            adj_t = torch.zeros(bs,1).to(dldz)\n",
        "\n",
        "            for i_t in range(time_len-1 ,0 ,-1):\n",
        "                z_i = z[i_t]\n",
        "                t_i = t[i_t]\n",
        "                f_i = func(z_i , t_i).view(bs , n_dim)\n",
        "\n",
        "                dldz_i = dldz[i_t]\n",
        "                dldz_i = torch.bmm(torch.transpose(dldz_i.unsqueeze(-1),1,2),f_i.unsqueeze(-1))[:,0]\n",
        "\n",
        "                adj_z += dldz_i\n",
        "                adj_t[i_t]= adj_t[i_t] - dldz_i\n",
        "\n",
        "                aug_z = torch.cat((z_i.view(bs , n_dim),adj_z , torch.zeros(bs,n_params).to(z),adj_t[i_t]),dim = -1)\n",
        "                aug_ans = ODE_solver_Euler(aug_z , t_i , t[i_t-1] , augemented_dynamics)\n",
        "                adj_z[:] = aug_ans[:,n_dim:2*n_dim]\n",
        "                adj_p[:] += aug_ans[: , 2*n_dim:2*n_dim + n_params]\n",
        "                adj_t[i_t-1] = aug_ans[: , 2*n_dim+n_params : ]\n",
        "\n",
        "                del aug_z , aug_ans\n",
        "\n",
        "            dldz_0 = dldz[0]\n",
        "            dldt_0 = torch.bmm(torch.transpose(dldz_0.unsqueeze(-1),1,2),f_i.unsqueeze(-1))[:,0]\n",
        "\n",
        "            adj_z += dldz_0\n",
        "            adj_t[0] -= dldt_0\n",
        "\n",
        "        return adj_z.view(bs , *z_shape),adj_t , adj_p , None\n",
        "\n",
        ""
      ],
      "metadata": {
        "id": "9_lul0bjLSiO"
      },
      "execution_count": 49,
      "outputs": []
    },
    {
      "cell_type": "code",
      "source": [
        "class NeuralODE(nn.Module):\n",
        "    def __init__(self,func):\n",
        "        super(NeuralODE,self).__init__()\n",
        "        assert isinstance(func , ODEF)\n",
        "        self.func = func\n",
        "\n",
        "    def forward(self , z0 , t=Tensor([0. , 1.]),return_whole_sequence = False):\n",
        "        t = t.to(z0)\n",
        "        z= ODEAdjoint.apply(z0 , t,self.func.flatten_parameters(), self.func)\n",
        "        if return_whole_sequence:\n",
        "            return z\n",
        "        else:\n",
        "            return z[-1]"
      ],
      "metadata": {
        "id": "uVVH0k6PLV5-"
      },
      "execution_count": 50,
      "outputs": []
    },
    {
      "cell_type": "code",
      "source": [
        "class LinearODEF(ODEF):\n",
        "    def __init__(self ,w):\n",
        "        super(LinearODEF , self).__init__()\n",
        "        self.lin = nn.Linear(2,2,bias = False)\n",
        "        self.lin.weight = nn.Parameter(w)\n",
        "\n",
        "    def forward(self,x,t):\n",
        "        return self.lin(x)"
      ],
      "metadata": {
        "id": "j07YIajBLbFt"
      },
      "execution_count": 51,
      "outputs": []
    },
    {
      "cell_type": "code",
      "source": [
        "class spiralfunctionexample(LinearODEF):\n",
        "    def __init__(self):\n",
        "        super(spiralfunctionexample,self).__init__(Tensor([[-0.1,-1.],[1.,-0.1]]))\n",
        "\n",
        "class randomlinearODEF(LinearODEF):\n",
        "    def __init__(self):\n",
        "        super(randomlinearODEF , self).__init__(torch.randn(2,2)/2.)"
      ],
      "metadata": {
        "id": "aA6l1bm3Lcl1"
      },
      "execution_count": 52,
      "outputs": []
    },
    {
      "cell_type": "code",
      "source": [
        "class testODEF(ODEF):\n",
        "    def __init__(self,A,B,x0):\n",
        "        super(testODEF,self).__init__()\n",
        "        self.A = nn.Linear(2,2,bias = False)\n",
        "        self.A.weight = nn.parameter(A)\n",
        "        self.B = nn.Linear(2,2,bias=False)\n",
        "        self.B.weight = nn.parameter(B)\n",
        "        self.x0 = nn.parameter(x0)\n",
        "\n",
        "    def forward(self ,x,t):\n",
        "        xTx0 = torch.sum(x*self.x0 , dim=1)\n",
        "        dxdt = torch.sigmoid(xTx0)*self.A(x-self.x0)+torch.sigmoid(-xTx0)*self.B(x+self.x0)\n",
        "        return dxdt\n",
        ""
      ],
      "metadata": {
        "id": "AEHSPlK7LfEG"
      },
      "execution_count": 53,
      "outputs": []
    },
    {
      "cell_type": "code",
      "source": [
        "class NNODEF(ODEF):\n",
        "    def __init__(self,in_dim , hid_dim , time_invariant =False):\n",
        "        super(NNODEF,self).__init__()\n",
        "        self.time_invariant = time_invariant\n",
        "\n",
        "        if time_invariant:\n",
        "            self.lin1 = nn.Linear(in_dim,hid_dim)\n",
        "        else:\n",
        "            self.lin1 = nn.Linear(in_dim+1,hid_dim)\n",
        "\n",
        "        self.lin2 = nn.Linear(hid_dim,hid_dim)\n",
        "        self.lin3 = nn.Linear(hid_dim,in_dim)\n",
        "        self.elu = nn.ELU(inplace=True)\n",
        "\n",
        "    def forward(self ,x,t):\n",
        "        if not self.time_invariant:\n",
        "            x = torch.cat((x,t),dim=-1)\n",
        "\n",
        "        h = self.elu(self.lin1(x))\n",
        "        h = self.elu(self.lin2(x))\n",
        "        out = self.lin3(h)\n",
        "        return out\n",
        "\n",
        "    def to_np(x):\n",
        "        return x.detach().cpu().numpy()\n",
        "\n",
        "    def plot_trajectories(obs = None , times = None , trajs = None,save = None,\n",
        "                    figsize=(16,8)):\n",
        "        plt.figure(figsize = figsize)\n",
        "        if obs is not None:\n",
        "            if times is None:\n",
        "                times = [None]* len(obs)\n",
        "            for o,t in zip(obs,times):\n",
        "                o = NNODEF.to_np(o)\n",
        "                t = NNODEF.to_np(t)\n",
        "                for b_i in range(o.shape[1]):\n",
        "                    plt.scatter(o[:,b_i,0],o[:,b_i,0],c=t[:,b_i,0],cmap = cm.plasma)\n",
        "\n",
        "        if trajs is not None:\n",
        "            for z in trajs:\n",
        "                z = NNODEF.to_np(z)\n",
        "                plt.plot(z[:,0,0],z[:,0,1],lw = 1.5)\n",
        "\n",
        "            if save is not None:\n",
        "                plt.savefig(save)\n",
        "\n",
        "        plt.show()\n",
        "\n",
        "    def conduct_experiment(ode_true,ode_trained,n_steps,name,plot_freq =10):\n",
        "        z0 = Variable(torch.Tensor([[0.6,0.3]]))\n",
        "\n",
        "        t_max =  6.29*5\n",
        "        n_points = 200\n",
        "\n",
        "        index_np = np.arange(0,n_points,1,dtype=int)\n",
        "        index_np = np.hstack([index_np[:,None]])\n",
        "        times_np = np.linspace(0,t_max,num = n_points)\n",
        "        times_np = np.hstack([times_np[:,None]])\n",
        "\n",
        "        times = torch.from_numpy(times_np[:,:,None]).to(z0)\n",
        "        obs = ode_true(z0 , times ,return_whole_sequence = True).detach()\n",
        "        obs += torch.randn_like(obs)*0.01\n",
        "\n",
        "        min_delta_time = 1.0\n",
        "        max_delta_time = 5.0\n",
        "        max_points_num = 64\n",
        "\n",
        "        def create_batch():\n",
        "            t0 = np.random.uniform(0,t_max-max_delta_time)\n",
        "            t1 = t0 + np.random.uniform(min_delta_time,max_delta_time)\n",
        "\n",
        "            idx = sorted(np.random.permutation(index_np[(times_np > 0)& (times_np<t1)])[:max_points_num])\n",
        "\n",
        "            obs_ = obs[idx]\n",
        "            ts_ = times[idx]\n",
        "            return obs_ , ts_\n",
        "\n",
        "        optimizer = torch.optim.Adam(ode_trained.parameters(),lr = 0.01)\n",
        "\n",
        "        for i in range(n_steps):\n",
        "            obs_ ,ts_ = create_batch()\n",
        "            z_ = ode_trained(obs_[0:1],ts_,return_whole_sequence = True)\n",
        "            loss = F.mse_loss(z_  , obs_.detach())\n",
        "\n",
        "            optimizer.zero_grad()\n",
        "            loss.backward(retain_graph  =True)\n",
        "            optimizer.step()\n",
        "\n",
        "            if i % plot_freq == 0:\n",
        "                z_p = ode_trained(z0, times, return_whole_sequence=True)\n",
        "                NNODEF.plot_trajectories(obs = [obs], times= [times],trajs = [z_p],save=f\"/content/{name}/{i}.png\",\n",
        "                                  figsize = (16,8))\n",
        "                clear_output(wait=True)\n",
        "\n",
        "\n",
        "\n",
        ""
      ],
      "metadata": {
        "id": "BC6CGw_ELiCG"
      },
      "execution_count": 54,
      "outputs": []
    },
    {
      "cell_type": "code",
      "source": [
        "spiral_function_instance = spiralfunctionexample()\n",
        "random_linear_func_instance = randomlinearODEF()\n",
        "\n",
        "ode_true = NeuralODE(spiral_function_instance)\n",
        "ode_trained = NeuralODE(random_linear_func_instance)\n",
        "NNODEF.conduct_experiment(ode_true,ode_trained,500,\"Linear\")\n"
      ],
      "metadata": {
        "id": "0nbIp7MjLmFe"
      },
      "execution_count": null,
      "outputs": []
    }
  ]
}