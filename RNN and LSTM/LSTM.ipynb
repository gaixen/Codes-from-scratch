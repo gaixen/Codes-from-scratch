{
  "nbformat": 4,
  "nbformat_minor": 0,
  "metadata": {
    "colab": {
      "provenance": [],
      "authorship_tag": "ABX9TyNhAgA2p1hXNwf55H3uBfOW",
      "include_colab_link": true
    },
    "kernelspec": {
      "name": "python3",
      "display_name": "Python 3"
    },
    "language_info": {
      "name": "python"
    }
  },
  "cells": [
    {
      "cell_type": "markdown",
      "metadata": {
        "id": "view-in-github",
        "colab_type": "text"
      },
      "source": [
        "<a href=\"https://colab.research.google.com/github/gaixen/Codes-from-scratch/blob/main/RNN%20and%20LSTM/LSTM.ipynb\" target=\"_parent\"><img src=\"https://colab.research.google.com/assets/colab-badge.svg\" alt=\"Open In Colab\"/></a>"
      ]
    },
    {
      "cell_type": "code",
      "execution_count": 2,
      "metadata": {
        "id": "SfE3sHvVUYI6"
      },
      "outputs": [],
      "source": [
        "from tqdm.notebook import tqdm as tqdm\n",
        "import numpy as np"
      ]
    },
    {
      "cell_type": "code",
      "source": [
        "data = \"\"\"To be, or not to be, that is the question: Whether \\\n",
        "'tis nobler in the mind to suffer The slings and arrows of ou\\\n",
        "trageous fortune, Or to take arms against a sea of troubles A\\\n",
        "nd by opposing end them. To die—to sleep, No more; and by a s\\\n",
        "leep to say we end The heart-ache and the thousand natural sh\\\n",
        "ocks That flesh is heir to: 'tis a consummation Devoutly to b\\\n",
        "e wish'd. To die, to sleep; To sleep, perchance to dream—ay, \\\n",
        "there's the rub: For in that sleep of death what dreams may c\\\n",
        "ome, When we have shuffled off this mortal coil, Must give us\\\n",
        " pause—there's the respect That makes calamity of so long lif\\\n",
        "e. For who would bear the whips and scorns of time, Th'oppres\\\n",
        "sor's wrong, the proud man's contumely, The pangs of dispriz'\\\n",
        "d love, the law's delay, The insolence of office, and the spu\\\n",
        "rns That patient merit of th'unworthy takes, When he himself \\\n",
        "might his quietus make\"\"\".lower()\n"
      ],
      "metadata": {
        "id": "zYGfUZdFXcBW"
      },
      "execution_count": 5,
      "outputs": []
    },
    {
      "cell_type": "code",
      "source": [
        "chars = set(data)\n",
        "data_size , char_size = len(data) , len(chars)\n",
        "char_to_idx = {char : i for i , char in enumerate(chars)}\n",
        "idx_to_char = {i : char for i , char in enumerate(chars)}\n",
        "\n",
        "train_x = data[:-1]\n",
        "train_y = data[1:]"
      ],
      "metadata": {
        "id": "bVpeiykLXj2F"
      },
      "execution_count": 20,
      "outputs": []
    },
    {
      "cell_type": "code",
      "source": [
        "def one_hot_encoding(text):\n",
        "  output = np.zeros((char_size,1))\n",
        "  output[char_to_idx[text]] = 1\n",
        "  return output\n",
        "\n",
        "def xavier_initialisation_weights(input_size , output_size):\n",
        "  return np.random.uniform(low = -1,high = 1 , size=(output_size,input_size))* np.sqrt(6/input_size+output_size)"
      ],
      "metadata": {
        "id": "mwKWDi-2aKvP"
      },
      "execution_count": 27,
      "outputs": []
    },
    {
      "cell_type": "code",
      "source": [
        "def tanh(input , derivative = False):\n",
        "  if derivative:\n",
        "    return 1-input**2\n",
        "  return np.tanh(input)\n",
        "\n",
        "def sigmoid(input , derivative = False):\n",
        "  if derivative:\n",
        "    return input*(1-input)\n",
        "  return 1/(1+np.exp(-1*input))\n",
        "\n",
        "def softmax(input):\n",
        "  return np.exp(input)/np.sum(np.exp(input))\n"
      ],
      "metadata": {
        "id": "-tIbBHmRdC-M"
      },
      "execution_count": 28,
      "outputs": []
    },
    {
      "cell_type": "code",
      "source": [
        "class LSTM():\n",
        ""
      ],
      "metadata": {
        "id": "dYS85Llsdp0G"
      },
      "execution_count": null,
      "outputs": []
    }
  ]
}